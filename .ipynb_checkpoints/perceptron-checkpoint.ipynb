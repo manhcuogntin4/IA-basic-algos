{
 "cells": [
  {
   "cell_type": "code",
   "execution_count": 1,
   "id": "57b97d4e",
   "metadata": {},
   "outputs": [],
   "source": [
    "import numpy as np\n",
    "import matplotlib.pyplot as plt"
   ]
  },
  {
   "cell_type": "code",
   "execution_count": 2,
   "id": "d4dfa8da",
   "metadata": {},
   "outputs": [],
   "source": [
    "input = np.linspace(-10, 10, 100)"
   ]
  },
  {
   "cell_type": "code",
   "execution_count": 3,
   "id": "7c037361",
   "metadata": {},
   "outputs": [],
   "source": [
    "def sigmoid(X):\n",
    "    val = 1/(1+np.exp(-X))\n",
    "    return val"
   ]
  },
  {
   "cell_type": "code",
   "execution_count": 4,
   "id": "287c7f10",
   "metadata": {},
   "outputs": [],
   "source": [
    "output = sigmoid(input)"
   ]
  },
  {
   "cell_type": "code",
   "execution_count": 5,
   "id": "7bce4f07",
   "metadata": {},
   "outputs": [
    {
     "data": {
      "text/plain": [
       "array([-10.        ,  -9.7979798 ,  -9.5959596 ,  -9.39393939,\n",
       "        -9.19191919,  -8.98989899,  -8.78787879,  -8.58585859,\n",
       "        -8.38383838,  -8.18181818,  -7.97979798,  -7.77777778,\n",
       "        -7.57575758,  -7.37373737,  -7.17171717,  -6.96969697,\n",
       "        -6.76767677,  -6.56565657,  -6.36363636,  -6.16161616,\n",
       "        -5.95959596,  -5.75757576,  -5.55555556,  -5.35353535,\n",
       "        -5.15151515,  -4.94949495,  -4.74747475,  -4.54545455,\n",
       "        -4.34343434,  -4.14141414,  -3.93939394,  -3.73737374,\n",
       "        -3.53535354,  -3.33333333,  -3.13131313,  -2.92929293,\n",
       "        -2.72727273,  -2.52525253,  -2.32323232,  -2.12121212,\n",
       "        -1.91919192,  -1.71717172,  -1.51515152,  -1.31313131,\n",
       "        -1.11111111,  -0.90909091,  -0.70707071,  -0.50505051,\n",
       "        -0.3030303 ,  -0.1010101 ,   0.1010101 ,   0.3030303 ,\n",
       "         0.50505051,   0.70707071,   0.90909091,   1.11111111,\n",
       "         1.31313131,   1.51515152,   1.71717172,   1.91919192,\n",
       "         2.12121212,   2.32323232,   2.52525253,   2.72727273,\n",
       "         2.92929293,   3.13131313,   3.33333333,   3.53535354,\n",
       "         3.73737374,   3.93939394,   4.14141414,   4.34343434,\n",
       "         4.54545455,   4.74747475,   4.94949495,   5.15151515,\n",
       "         5.35353535,   5.55555556,   5.75757576,   5.95959596,\n",
       "         6.16161616,   6.36363636,   6.56565657,   6.76767677,\n",
       "         6.96969697,   7.17171717,   7.37373737,   7.57575758,\n",
       "         7.77777778,   7.97979798,   8.18181818,   8.38383838,\n",
       "         8.58585859,   8.78787879,   8.98989899,   9.19191919,\n",
       "         9.39393939,   9.5959596 ,   9.7979798 ,  10.        ])"
      ]
     },
     "execution_count": 5,
     "metadata": {},
     "output_type": "execute_result"
    }
   ],
   "source": [
    "input"
   ]
  },
  {
   "cell_type": "code",
   "execution_count": 6,
   "id": "1f4c6928",
   "metadata": {},
   "outputs": [
    {
     "data": {
      "text/plain": [
       "array([4.53978687e-05, 5.55606489e-05, 6.79983174e-05, 8.32200197e-05,\n",
       "       1.01848815e-04, 1.24647146e-04, 1.52547986e-04, 1.86692945e-04,\n",
       "       2.28478855e-04, 2.79614739e-04, 3.42191434e-04, 4.18766684e-04,\n",
       "       5.12469082e-04, 6.27124987e-04, 7.67413430e-04, 9.39055039e-04,\n",
       "       1.14904229e-03, 1.40591988e-03, 1.72012560e-03, 2.10440443e-03,\n",
       "       2.57431039e-03, 3.14881358e-03, 3.85103236e-03, 4.70911357e-03,\n",
       "       5.75728612e-03, 7.03711536e-03, 8.59898661e-03, 1.05038445e-02,\n",
       "       1.28252101e-02, 1.56514861e-02, 1.90885420e-02, 2.32625358e-02,\n",
       "       2.83228820e-02, 3.44451957e-02, 4.18339400e-02, 5.07243606e-02,\n",
       "       6.13831074e-02, 7.41067363e-02, 8.92170603e-02, 1.07052146e-01,\n",
       "       1.27951705e-01, 1.52235823e-01, 1.80176593e-01, 2.11963334e-01,\n",
       "       2.47663801e-01, 2.87185901e-01, 3.30246430e-01, 3.76354517e-01,\n",
       "       4.24816868e-01, 4.74768924e-01, 5.25231076e-01, 5.75183132e-01,\n",
       "       6.23645483e-01, 6.69753570e-01, 7.12814099e-01, 7.52336199e-01,\n",
       "       7.88036666e-01, 8.19823407e-01, 8.47764177e-01, 8.72048295e-01,\n",
       "       8.92947854e-01, 9.10782940e-01, 9.25893264e-01, 9.38616893e-01,\n",
       "       9.49275639e-01, 9.58166060e-01, 9.65554804e-01, 9.71677118e-01,\n",
       "       9.76737464e-01, 9.80911458e-01, 9.84348514e-01, 9.87174790e-01,\n",
       "       9.89496155e-01, 9.91401013e-01, 9.92962885e-01, 9.94242714e-01,\n",
       "       9.95290886e-01, 9.96148968e-01, 9.96851186e-01, 9.97425690e-01,\n",
       "       9.97895596e-01, 9.98279874e-01, 9.98594080e-01, 9.98850958e-01,\n",
       "       9.99060945e-01, 9.99232587e-01, 9.99372875e-01, 9.99487531e-01,\n",
       "       9.99581233e-01, 9.99657809e-01, 9.99720385e-01, 9.99771521e-01,\n",
       "       9.99813307e-01, 9.99847452e-01, 9.99875353e-01, 9.99898151e-01,\n",
       "       9.99916780e-01, 9.99932002e-01, 9.99944439e-01, 9.99954602e-01])"
      ]
     },
     "execution_count": 6,
     "metadata": {},
     "output_type": "execute_result"
    }
   ],
   "source": [
    "output"
   ]
  },
  {
   "cell_type": "code",
   "execution_count": 7,
   "id": "f46d6d4f",
   "metadata": {},
   "outputs": [
    {
     "data": {
      "text/plain": [
       "Text(0.5, 1.0, 'sigmoid function')"
      ]
     },
     "execution_count": 7,
     "metadata": {},
     "output_type": "execute_result"
    },
    {
     "data": {
      "image/png": "[encoded data removed]",
      "text/plain": [
       "<Figure size 432x288 with 1 Axes>"
      ]
     },
     "metadata": {
      "needs_background": "light"
     },
     "output_type": "display_data"
    }
   ],
   "source": [
    "plt.plot(input, output)\n",
    "plt.xlabel(\"x_input\")\n",
    "plt.ylabel(\"y_input\")\n",
    "plt.title(\"sigmoid function\")"
   ]
  },
  {
   "cell_type": "code",
   "execution_count": 8,
   "id": "180f4f41",
   "metadata": {},
   "outputs": [
    {
     "name": "stdout",
     "output_type": "stream",
     "text": [
      "(4, 2)\n",
      "[[0 0]\n",
      " [0 1]\n",
      " [1 0]\n",
      " [1 1]]\n",
      "(4, 1)\n",
      "[[0]\n",
      " [1]\n",
      " [1]\n",
      " [1]]\n",
      "(2, 1)\n",
      "[[0.1]\n",
      " [0.2]]\n",
      "Error -0.558754185648239\n",
      "Update weights [[0.10859041]\n",
      " [0.20828807]]\n",
      "[0.59916115]\n",
      "[0.64799993]\n",
      "[0.57282359]\n",
      "[0.60019106]\n",
      "[0.64897786]\n",
      "[0.57387303]\n",
      "[0.60129256]\n",
      "[0.65002333]\n",
      "[0.5749957]\n",
      "[0.60225064]\n",
      "[0.65093229]\n",
      "[0.57597241]\n",
      "Error -0.5449723292898769\n",
      "Update weights [[0.11706929]\n",
      " [0.21646694]]\n",
      "[0.60269247]\n",
      "[0.65320641]\n",
      "[0.57435137]\n",
      "[0.60370897]\n",
      "[0.65416783]\n",
      "[0.5753893]\n",
      "[0.60479629]\n",
      "[0.65519577]\n",
      "[0.57649981]\n",
      "[0.60573571]\n",
      "[0.65608351]\n",
      "[0.57745949]\n",
      "Error -0.5315134542854335\n",
      "Update weights [[0.12543941]\n",
      " [0.22453937]]\n",
      "[0.60614681]\n",
      "[0.65829005]\n",
      "[0.57583645]\n",
      "[0.60715018]\n",
      "[0.65923526]\n",
      "[0.57686314]\n",
      "[0.6082236]\n",
      "[0.660246]\n",
      "[0.57796179]\n",
      "[0.60914481]\n",
      "[0.66111305]\n",
      "[0.5789049]\n",
      "Error -0.5183693277777114\n",
      "Update weights [[0.13370347]\n",
      " [0.23250803]]\n",
      "[0.60952609]\n",
      "[0.6632539]\n",
      "[0.57727994]\n",
      "[0.61051662]\n",
      "[0.66418322]\n",
      "[0.57829567]\n",
      "[0.6115764]\n",
      "[0.66517707]\n",
      "[0.57938272]\n",
      "[0.61247989]\n",
      "[0.66602396]\n",
      "[0.58030971]\n",
      "Error -0.5055318634543028\n",
      "Update weights [[0.14186408]\n",
      " [0.24037552]]\n",
      "[0.61283223]\n",
      "[0.66810099]\n",
      "[0.57868293]\n",
      "[0.61381017]\n",
      "[0.66901473]\n",
      "[0.57968796]\n",
      "[0.6148566]\n",
      "[0.669992]\n",
      "[0.58076371]\n",
      "[0.61574281]\n",
      "[0.67081926]\n",
      "[0.58167499]\n",
      "Error -0.49299312894046377\n",
      "Update weights [[0.1499238 ]\n",
      " [0.24814438]]\n",
      "[0.61606708]\n",
      "[0.67283431]\n",
      "[0.58004648]\n",
      "[0.61703269]\n",
      "[0.67373277]\n",
      "[0.58104108]\n",
      "[0.61806604]\n",
      "[0.67469379]\n",
      "[0.58210577]\n",
      "[0.61893542]\n",
      "[0.67550194]\n",
      "[0.58300178]\n",
      "Error -0.4807453517449485\n",
      "Update weights [[0.1578851 ]\n",
      " [0.25581706]]\n",
      "[0.61923245]\n",
      "[0.6774568]\n",
      "[0.58137161]\n",
      "[0.620186]\n",
      "[0.67834028]\n",
      "[0.58235603]\n",
      "[0.62120654]\n",
      "[0.67928537]\n",
      "[0.58340994]\n",
      "[0.62205952]\n",
      "[0.68007492]\n",
      "[0.58429108]\n",
      "Error -0.46878092391163273\n",
      "Update weights [[0.16575038]\n",
      " [0.26339595]]\n",
      "[0.62233013]\n",
      "[0.68197135]\n",
      "[0.58265934]\n",
      "[0.62327187]\n",
      "[0.68284017]\n",
      "[0.58363382]\n",
      "[0.62427986]\n",
      "[0.68376964]\n",
      "[0.58467719]\n",
      "[0.62511687]\n",
      "[0.68454109]\n",
      "[0.58554386]\n",
      "Error -0.45709240551747266\n",
      "Update weights [[0.17352198]\n",
      " [0.27088335]]\n",
      "[0.62536184]\n",
      "[0.68638082]\n",
      "[0.58391062]\n",
      "[0.62629203]\n",
      "[0.68723527]\n",
      "[0.5848754]\n",
      "[0.62728772]\n",
      "[0.68814944]\n",
      "[0.58590848]\n",
      "[0.62810918]\n",
      "[0.68890328]\n",
      "[0.58676106]\n",
      "Error -0.4456725271456442\n",
      "Update weights [[0.18120217]\n",
      " [0.27828152]]\n",
      "[0.6283293]\n",
      "[0.69068798]\n",
      "[0.58512639]\n",
      "[0.62924817]\n",
      "[0.69152837]\n",
      "[0.58608171]\n",
      "[0.63023183]\n",
      "[0.69242756]\n",
      "[0.58710474]\n",
      "[0.63103813]\n",
      "[0.69316427]\n",
      "[0.5879436]\n"
     ]
    }
   ],
   "source": [
    "input_features = np.array([[0,0],[0,1],[1,0],[1,1]])\n",
    "print (input_features.shape)\n",
    "print (input_features)# Define target output:\n",
    "target_output = np.array([[0,1,1,1]])# Reshaping our target output into vector:\n",
    "target_output = target_output.reshape(4,1)\n",
    "print(target_output.shape)\n",
    "print (target_output)# Define weights:\n",
    "weights = np.array([[0.1],[0.2]])\n",
    "print(weights.shape)\n",
    "print (weights)# Bias weight:\n",
    "bias = 0.3# Learning Rate:\n",
    "lr = 0.05# Sigmoid function:\n",
    "def sigmoid_der(x):\n",
    "    return sigmoid(x)*(1-sigmoid(x))\n",
    "for epoch in range(10):\n",
    "    inputs = input_features#Feedforward input:\n",
    "    in_o = np.dot(inputs, weights) + bias #Feedforward output:\n",
    "    out_o = sigmoid(in_o) #Backpropogation#Calculating error\n",
    "    error = out_o - target_output#Going with the formula:\n",
    "    x = error.sum()\n",
    "    print(\"Error\", x)#Calculating derivative:\n",
    "    derror_douto = error\n",
    "    douto_dino = sigmoid_der(out_o)#Multiplying individual derivatives:\n",
    "    deriv = derror_douto * douto_dino #Multiplying with the 3rd individual derivative:\n",
    "    #Finding the transpose of input_features:\n",
    "    inputs = input_features.T\n",
    "    deriv_final = np.dot(inputs,deriv)#Updating the weights values:\n",
    "    weights -= lr * deriv_final #Updating the bias weight value:\n",
    "    print(\"Update weights\", weights)\n",
    "    \"\"\"\n",
    "    for i in deriv:\n",
    "        bias -= lr * i #Check the final values for weight and biasprint (weights)print (bias) #Taking inputs:\n",
    "        single_point = np.array([1,0]) #1st step:\n",
    "        result1 = np.dot(single_point, weights) + bias #2nd step:\n",
    "        result2 = sigmoid(result1) #Print final result\n",
    "        print(result2) #Taking inputs:\n",
    "        single_point = np.array([1,1]) #1st step:\n",
    "        result1 = np.dot(single_point, weights) + bias #2nd step:\n",
    "        result2 = sigmoid(result1) #Print final result\n",
    "        print(result2) #Taking inputs:\n",
    "        single_point = np.array([0,0]) #1st step:\n",
    "        result1 = np.dot(single_point, weights) + bias #2nd step:\n",
    "        result2 = sigmoid(result1) #Print final result\n",
    "        print(result2)\n",
    "    \"\"\""
   ]
  },
  {
   "cell_type": "code",
   "execution_count": null,
   "id": "399ecd4d",
   "metadata": {},
   "outputs": [],
   "source": []
  }
 ],
 "metadata": {
  "kernelspec": {
   "display_name": "Python 3 (ipykernel)",
   "language": "python",
   "name": "python3"
  },
  "language_info": {
   "codemirror_mode": {
    "name": "ipython",
    "version": 3
   },
   "file_extension": ".py",
   "mimetype": "text/x-python",
   "name": "python",
   "nbconvert_exporter": "python",
   "pygments_lexer": "ipython3",
   "version": "3.8.8"
  }
 },
 "nbformat": 4,
 "nbformat_minor": 5
}
